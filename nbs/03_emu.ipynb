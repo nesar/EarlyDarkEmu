{
 "cells": [
  {
   "cell_type": "markdown",
   "metadata": {},
   "source": [
    "# emu\n",
    "\n",
    "> Fill in a module description here"
   ]
  },
  {
   "cell_type": "code",
   "execution_count": null,
   "metadata": {},
   "outputs": [],
   "source": [
    "#| default_exp emu"
   ]
  },
  {
   "cell_type": "code",
   "execution_count": null,
   "metadata": {},
   "outputs": [],
   "source": [
    "#| hide\n",
    "from nbdev.showdoc import *"
   ]
  },
  {
   "cell_type": "code",
   "execution_count": null,
   "metadata": {},
   "outputs": [
    {
     "name": "stdout",
     "output_type": "stream",
     "text": [
      "(210,)\n"
     ]
    }
   ],
   "source": [
    "#| export\n",
    "\n",
    "from sepia.SepiaModel import SepiaModel\n",
    "from sepia.SepiaData import SepiaData\n",
    "from sepia.SepiaPredict import SepiaEmulatorPrediction\n",
    "# from sepia.SepiaPredict import SepiaFullPrediction\n",
    "# from sepia.SepiaPredict import SepiaXvalEmulatorPrediction\n",
    "# from sepia.SepiaSharedThetaModels import SepiaSharedThetaModels\n",
    "import numpy as np\n",
    "from EarlyDarkEmu.pca import do_pca\n",
    "from EarlyDarkEmu.gp import gp_load\n",
    "from EarlyDarkEmu.load import sepia_data_format\n",
    "import sys\n",
    "import os"
   ]
  },
  {
   "cell_type": "code",
   "execution_count": null,
   "metadata": {},
   "outputs": [],
   "source": [
    "#| export\n",
    "\n",
    "def blockPrint():\n",
    "    if 'ipykernel' in sys.modules:\n",
    "        # Running in Jupyter notebook\n",
    "        sys._jupyter_stdout = sys.stdout\n",
    "        sys.stdout = open(os.devnull, 'w')\n",
    "    else:\n",
    "        # Running in a regular Python script\n",
    "        sys._original_stdout = sys.stdout\n",
    "        sys.stdout = open(os.devnull, 'w')\n",
    "\n",
    "def enablePrint():\n",
    "    if 'ipykernel' in sys.modules:\n",
    "        # Running in Jupyter notebook\n",
    "        sys.stdout.close()\n",
    "        sys.stdout = sys._jupyter_stdout\n",
    "    else:\n",
    "        # Running in a regular Python script\n",
    "        sys.stdout.close()\n",
    "        sys.stdout = sys._original_stdout"
   ]
  },
  {
   "cell_type": "code",
   "execution_count": null,
   "metadata": {},
   "outputs": [],
   "source": [
    "#| export\n",
    "\n",
    "def emulate(sepia_model:SepiaModel=None, # Input data in SEPIA format\n",
    "        input_params:np.array=None, #Input parameter array \n",
    "       ) -> tuple: # 2 np.array of mean and (0.05,0.95) quantile in prediction\n",
    "    \n",
    "    \n",
    "    if len(input_params.shape) == 1:\n",
    "        ip = np.expand_dims(input_params, axis=0)\n",
    "        \n",
    "    else:\n",
    "        ip = input_params\n",
    "        \n",
    "    pred_samples= sepia_model.get_samples(numsamples=10)\n",
    "        \n",
    "    pred = SepiaEmulatorPrediction(t_pred=ip, samples=pred_samples, model=sepia_model)\n",
    "    \n",
    "    pred_samps = pred.get_y()\n",
    "    \n",
    "    pred_mean = np.mean(pred_samps, axis=0).T\n",
    "    pred_err = np.quantile(pred_samps, [0.05, 0.95], axis=0).T\n",
    "    \n",
    "    return pred_mean, pred_err"
   ]
  },
  {
   "cell_type": "code",
   "execution_count": null,
   "metadata": {},
   "outputs": [],
   "source": [
    "#| export\n",
    "\n",
    "def load_model_multiple(model_dir:str=None, # Pickle directory path\n",
    "                        p_train_all:np.array=None, # Parameter array\n",
    "                        y_vals_all:np.array=None, # Target y-values array\n",
    "                        y_ind_all:np.array=None, # x-values\n",
    "                        z_index_range:np.array=None, # Snapshot indices for training\n",
    "                        sepia_model_i:str=None,\n",
    "                   ) -> None: \n",
    "    \n",
    "    blockPrint()\n",
    "    \n",
    "    model_list = []\n",
    "    \n",
    "    for z_index in z_index_range:\n",
    "        \n",
    "        sepia_data = sepia_data_format(p_train_all, y_vals_all[:, z_index, :], y_ind_all)\n",
    "\n",
    "        print(sepia_data)\n",
    "        sepia_model_i = do_pca(sepia_data, exp_variance=0.95)\n",
    "        \n",
    "        model_filename = model_dir + 'multivariate_model_z_index' + str(z_index) \n",
    "        sepia_model_z = gp_load(sepia_model_i, model_filename)\n",
    "        model_list.append(sepia_model_z)\n",
    "\n",
    "    enablePrint()\n",
    "\n",
    "    print('Number of models loaded: ' + str(len(model_list))  )\n",
    "\n",
    "\n",
    "    return model_list\n",
    " "
   ]
  },
  {
   "cell_type": "code",
   "execution_count": null,
   "metadata": {},
   "outputs": [],
   "source": [
    "#| export\n",
    "\n",
    "def emu_redshift(input_params_and_redshift:np.array=None, # Input parameters (along with redshift) \n",
    "                 sepia_model_list:list=None,\n",
    "                 z_all:np.array=None): # All the trained models\n",
    "    \n",
    "    z = input_params_and_redshift[:, -1]\n",
    "    input_params = input_params_and_redshift[:, :-1]\n",
    "       \n",
    "    '''\n",
    "    if (z == 0):\n",
    "        # No redshift interpolation for z=0\n",
    "        GPm, PCAm = model_load(snap_ID=LAST_SNAP, nRankMax=DEFAULT_PCA_RANK)\n",
    "        Pk_interp = emulate(sepia_model, input_params)\n",
    "        \n",
    "        \n",
    "    else:\n",
    "    '''\n",
    "    \n",
    "    # Linear interpolation between z1 < z < z2\n",
    "    snap_idx_nearest = (np.abs(z_all - z)).argmin()\n",
    "    if (z > z_all[snap_idx_nearest]):\n",
    "        snap_ID_z1 = snap_idx_nearest - 1\n",
    "    else:\n",
    "        snap_ID_z1 = snap_idx_nearest\n",
    "    snap_ID_z2 = snap_ID_z1 + 1\n",
    "    \n",
    "\n",
    "    sepia_model_z1 = sepia_model_list[snap_ID_z1]\n",
    "    Pk_z1, Pk_z1_err = emulate(sepia_model_z1, input_params)\n",
    "    z1 = z_all[snap_ID_z1]\n",
    "    \n",
    "\n",
    "    sepia_model_z2 = sepia_model_list[snap_ID_z2]\n",
    "    Pk_z2, Pk_z2_err = emulate(sepia_model_z2, input_params)\n",
    "    z2 = z_all[snap_ID_z2]\n",
    "\n",
    "    Pk_interp = np.zeros_like(Pk_z1)\n",
    "    Pk_interp = Pk_z2 + (Pk_z1 - Pk_z2)*(z - z2)/(z1 - z2)\n",
    "\n",
    "    Pk_interp_err = np.zeros_like(Pk_z1_err)\n",
    "    Pk_interp_err = Pk_z2_err + (Pk_z1_err - Pk_z2_err)*(z - z2)/(z1 - z2)\n",
    "    \n",
    "    return Pk_interp, Pk_interp_err"
   ]
  },
  {
   "cell_type": "code",
   "execution_count": null,
   "metadata": {},
   "outputs": [],
   "source": [
    "#| hide\n",
    "import nbdev; nbdev.nbdev_export()"
   ]
  }
 ],
 "metadata": {
  "kernelspec": {
   "display_name": "python3",
   "language": "python",
   "name": "python3"
  }
 },
 "nbformat": 4,
 "nbformat_minor": 4
}
