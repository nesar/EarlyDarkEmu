{
 "cells": [
  {
   "cell_type": "markdown",
   "metadata": {},
   "source": [
    "# gp\n",
    "\n",
    "> Fill in a module description here"
   ]
  },
  {
   "cell_type": "code",
   "execution_count": null,
   "metadata": {},
   "outputs": [],
   "source": [
    "#| default_exp gp"
   ]
  },
  {
   "cell_type": "code",
   "execution_count": null,
   "metadata": {},
   "outputs": [],
   "source": [
    "#| hide\n",
    "from nbdev.showdoc import *"
   ]
  },
  {
   "cell_type": "code",
   "execution_count": null,
   "metadata": {},
   "outputs": [],
   "source": [
    "#| export\n",
    "\n",
    "from sepia.SepiaModel import SepiaModel\n",
    "from sepia.SepiaData import SepiaData\n",
    "import pkg_resources\n",
    "import os\n",
    "from EarlyDarkEmu.pca import do_pca\n",
    "import numpy as np\n",
    "from EarlyDarkEmu.load import sepia_data_format\n"
   ]
  },
  {
   "cell_type": "code",
   "execution_count": null,
   "metadata": {},
   "outputs": [],
   "source": [
    "#| export\n",
    "\n",
    "MODEL_DIR = \"model/\"\n",
    "MODEL_FILE = pkg_resources.resource_stream(\"EarlyDarkEmu\", MODEL_DIR + \"README.txt\").name\n",
    "MODEL_DIR_PATH = os.path.dirname(MODEL_FILE)"
   ]
  },
  {
   "cell_type": "code",
   "execution_count": null,
   "metadata": {},
   "outputs": [],
   "source": [
    "#| export\n",
    "\n",
    "def do_gp_train(sepia_model:SepiaModel=None, # Input data in SEPIA format, after PCA\n",
    "                model_file:str=None, #pickle file path\n",
    "               ) -> SepiaModel: # sepia.SepiaModel.SepiaModel after GP\n",
    "    \n",
    "    ## Also check: https://github.com/lanl/SEPIA/blob/master/examples/Synthetic_toy_examples/multivariate_example_with_prediction.ipynb\n",
    "    \n",
    "    sepia_model.tune_step_sizes(50, 20, update_vals=True)\n",
    "    sepia_model.do_mcmc(1000)\n",
    "    sepia_model.save_model_info(model_file)\n",
    "    return sepia_model"
   ]
  },
  {
   "cell_type": "code",
   "execution_count": null,
   "metadata": {},
   "outputs": [],
   "source": []
  },
  {
   "cell_type": "code",
   "execution_count": null,
   "metadata": {},
   "outputs": [],
   "source": [
    "#| export\n",
    "\n",
    "def gp_load(sepia_model:SepiaModel=None, # Input data in SEPIA format (Pre-PCA is fine? -- CHECK)\n",
    "            model_file:str=MODEL_DIR_PATH + 'multivariate_model', #pickle file path\n",
    "    ) -> SepiaModel: # sepia.SepiaModel.SepiaModel\n",
    "    \n",
    "    # make sure this model was instantiated with the same input data as the model corresonding to this saved model info.\n",
    "\n",
    "    # if os.path.isfile(model_file+'.pkl'):\n",
    "    try:\n",
    "        sepia_model.restore_model_info(model_file)\n",
    "        return sepia_model\n",
    "        \n",
    "    except FileNotFoundError as e:\n",
    "        print(e.errno)    "
   ]
  },
  {
   "cell_type": "code",
   "execution_count": null,
   "metadata": {},
   "outputs": [],
   "source": [
    "#| export\n",
    "\n",
    "def gp_load_all():\n",
    "    pass"
   ]
  },
  {
   "cell_type": "code",
   "execution_count": null,
   "metadata": {},
   "outputs": [],
   "source": [
    "#| export \n",
    "\n",
    "def do_gp_train_multiple(model_dir:str=None, # Pickle directory path\n",
    "                         p_train_all:np.array=None, # Parameter array\n",
    "                         y_vals_all:np.array=None, # Target y-values array\n",
    "                         y_ind_all:np.array=None, # x-values\n",
    "                         z_index_range:np.array=None, # Snapshot indices for training\n",
    "                   ) -> None: \n",
    "    \n",
    "    for z_index in z_index_range:\n",
    "     \n",
    "        sepia_data = sepia_data_format(p_train_all, y_vals_all[:, z_index, :], y_ind_all)\n",
    "        # print(sepia_data)\n",
    "        model_filename = model_dir + 'multivariate_model_z_index' + str(z_index) \n",
    "\n",
    "        sepia_model = do_pca(sepia_data, exp_variance=0.95)\n",
    "        sepia_model = do_gp_train(sepia_model, model_filename)\n",
    "        print('Training complete for snapshot ' + str(z_index))\n",
    "        print('Model saved at ' + model_dir)\n",
    "        print(30*'=*')\n",
    "    \n",
    "    return None"
   ]
  },
  {
   "cell_type": "code",
   "execution_count": null,
   "metadata": {},
   "outputs": [],
   "source": [
    "#| hide\n",
    "import nbdev; nbdev.nbdev_export()"
   ]
  }
 ],
 "metadata": {
  "kernelspec": {
   "display_name": "python3",
   "language": "python",
   "name": "python3"
  }
 },
 "nbformat": 4,
 "nbformat_minor": 4
}
