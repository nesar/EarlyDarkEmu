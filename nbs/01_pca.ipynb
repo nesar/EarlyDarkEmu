{
 "cells": [
  {
   "cell_type": "markdown",
   "metadata": {},
   "source": [
    "# pca\n",
    "\n",
    "> Fill in a module description here"
   ]
  },
  {
   "cell_type": "code",
   "execution_count": null,
   "metadata": {},
   "outputs": [],
   "source": [
    "#| default_exp pca"
   ]
  },
  {
   "cell_type": "code",
   "execution_count": null,
   "metadata": {},
   "outputs": [],
   "source": [
    "#| hide\n",
    "from nbdev.showdoc import *"
   ]
  },
  {
   "cell_type": "code",
   "execution_count": null,
   "metadata": {},
   "outputs": [],
   "source": [
    "#| export\n",
    "\n",
    "from sepia.SepiaModel import SepiaModel\n",
    "from sepia.SepiaData import SepiaData"
   ]
  },
  {
   "cell_type": "code",
   "execution_count": null,
   "metadata": {},
   "outputs": [],
   "source": [
    "#| export\n",
    "\n",
    "def do_pca(sepia_data:SepiaData=None, # Input data in SEPIA format\n",
    "           exp_variance:float=0.98, # Explained variance\n",
    "           do_discrepancy:bool=False, #For discrepancy modeling\n",
    "          ) -> SepiaModel: # sepia.SepiaModel.SepiaModel\n",
    "    \n",
    "    # Transform\n",
    "    sepia_data.transform_xt()\n",
    "    sepia_data.standardize_y()\n",
    "    # Compute basis\n",
    "    sepia_data.create_K_basis(n_pc=exp_variance)        # Explain 95% of variance\n",
    "    if do_discrepancy:\n",
    "        sepia_data.create_D_basis()\n",
    "    # Set up the model\n",
    "    sepia_model = SepiaModel(sepia_data)\n",
    "    \n",
    "    return sepia_model"
   ]
  },
  {
   "cell_type": "code",
   "execution_count": null,
   "metadata": {},
   "outputs": [],
   "source": [
    "#| hide\n",
    "import nbdev; nbdev.nbdev_export()"
   ]
  },
  {
   "cell_type": "code",
   "execution_count": null,
   "metadata": {},
   "outputs": [],
   "source": []
  }
 ],
 "metadata": {
  "kernelspec": {
   "display_name": "python3",
   "language": "python",
   "name": "python3"
  }
 },
 "nbformat": 4,
 "nbformat_minor": 4
}
