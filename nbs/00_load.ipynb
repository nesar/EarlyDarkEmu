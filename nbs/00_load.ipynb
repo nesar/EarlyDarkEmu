{
 "cells": [
  {
   "cell_type": "markdown",
   "metadata": {},
   "source": [
    "# load\n",
    "\n",
    "> Module for loading training and target files"
   ]
  },
  {
   "cell_type": "code",
   "execution_count": null,
   "metadata": {},
   "outputs": [],
   "source": [
    "#| default_exp load"
   ]
  },
  {
   "cell_type": "code",
   "execution_count": null,
   "metadata": {},
   "outputs": [],
   "source": [
    "#| hide\n",
    "from nbdev.showdoc import *"
   ]
  },
  {
   "cell_type": "code",
   "execution_count": null,
   "metadata": {},
   "outputs": [],
   "source": [
    "#| export\n",
    "\n",
    "import numpy as np\n",
    "import pkg_resources\n",
    "from sepia.SepiaData import SepiaData"
   ]
  },
  {
   "cell_type": "code",
   "execution_count": null,
   "metadata": {},
   "outputs": [],
   "source": [
    "#| hide\n",
    "\n",
    "import matplotlib.pylab as plt\n",
    "import os\n",
    "from scipy.interpolate import interp1d\n"
   ]
  },
  {
   "cell_type": "code",
   "execution_count": null,
   "metadata": {},
   "outputs": [],
   "source": [
    "#| export\n",
    "\n",
    "DATA_DIR = \"data/pkg_data/\"\n",
    "LIBRARY_PARAM_FILE = pkg_resources.resource_stream(\"EarlyDarkEmu\", DATA_DIR + \"params_latin.txt\").name\n",
    "LIBRARY_PK_FILE = pkg_resources.resource_stream(\"EarlyDarkEmu\", DATA_DIR + \"pk_all.npy\").name\n",
    "LIBRARY_K_FILE = pkg_resources.resource_stream(\"EarlyDarkEmu\", DATA_DIR + \"k_all.npy\").name\n",
    "LIBRARY_Z_FILE = pkg_resources.resource_stream(\"EarlyDarkEmu\", DATA_DIR + \"z_all.npy\").name\n",
    "\n",
    "\n",
    "PARAM_NAME = [r\"$\\Omega_m$\", r\"h\", r\"$\\sigma_8$\", r\"$\\log(z_c)$\", r\"$f_{ede}$\", r\"$\\theta_i$\", r\"$\\Omega_{CDM}$\"]\n",
    "\n",
    "# LIBRARY_ZK_FILE_VAL = pkg_resources.resource_stream(\"EarlyDarkEmu\", DATA_DIR + \"z_k_validation.txt\").name\n",
    "# LIBRARY_BK_FILE_VAL = pkg_resources.resource_stream(\"EarlyDarkEmu\", DATA_DIR + \"Boost_validation.npy\").name\n",
    "# LIBRARY_PARAM_FILE_VAL = pkg_resources.resource_stream(\"EarlyDarkEmu\", DATA_DIR + \"cosmo_validation.txt\").name\n"
   ]
  },
  {
   "cell_type": "code",
   "execution_count": null,
   "metadata": {},
   "outputs": [],
   "source": [
    "#| hide\n",
    "\n",
    "def load_single_pk(file_path\n",
    "                   ):\n",
    "    data = np.loadtxt(file_path).T\n",
    "    return data"
   ]
  },
  {
   "cell_type": "code",
   "execution_count": null,
   "metadata": {},
   "outputs": [],
   "source": [
    "#| hide\n",
    "\n",
    "def interpolate_data(k, \n",
    "                     pk, \n",
    "                     k_base\n",
    "                     ):\n",
    "    interp_func = interp1d(k, pk, kind='linear', bounds_error=False, fill_value=\"extrapolate\")\n",
    "    pk_interpolated = interp_func(k_base)\n",
    "    return pk_interpolated"
   ]
  },
  {
   "cell_type": "code",
   "execution_count": null,
   "metadata": {},
   "outputs": [],
   "source": [
    "#| hide\n",
    "\n",
    "def extract_z_value(file_path\n",
    "                    ):\n",
    "    with open(file_path, 'r') as file:\n",
    "        first_line = file.readline()\n",
    "        z_value = float(first_line.split('z=')[1].split()[0])\n",
    "    return z_value"
   ]
  },
  {
   "cell_type": "code",
   "execution_count": null,
   "metadata": {},
   "outputs": [],
   "source": [
    "#| hide\n",
    "\n",
    "def load_all_save_npy(directory, \n",
    "                       k_base, \n",
    "                       output_directory,\n",
    "                       total_sim_num=64, \n",
    "                       total_redshift_num=51, \n",
    "                       ):\n",
    "    \n",
    "    all_data = np.zeros((total_sim_num, total_redshift_num, len(k_base)))\n",
    "    all_z = np.zeros(total_redshift_num, )\n",
    "\n",
    "    for sim_num in range(1, total_sim_num + 1):\n",
    "        sim_data = []\n",
    "        \n",
    "        \n",
    "        for redshift_num in range(1, total_redshift_num + 1):\n",
    "            file_name = f\"EDE_model{sim_num}_00_z{redshift_num}_pk.dat\"\n",
    "            file_path = os.path.join(directory, file_name)\n",
    "            k, pk = load_single_pk(file_path)\n",
    "            # print(k.min(), k.max())\n",
    "            pk_interpolated = interpolate_data(k, pk, k_base)            \n",
    "            sim_data.append(pk_interpolated)\n",
    "\n",
    "\n",
    "            if sim_num == 1: \n",
    "                \n",
    "                z_single = extract_z_value(file_path)\n",
    "                all_z[redshift_num -1] = z_single\n",
    "\n",
    "        \n",
    "        all_data[sim_num - 1, :, :] = np.array(sim_data)  # Adjusted index to be 0-based\n",
    "\n",
    "        np.save(output_directory + 'pk_all', all_data, allow_pickle=True)\n",
    "        np.save(output_directory + 'k_all.npy', k_base)\n",
    "        np.save(output_directory + 'z_all.npy', all_z)\n",
    "    \n",
    "    return all_data, k_base, all_z\n"
   ]
  },
  {
   "cell_type": "code",
   "execution_count": null,
   "metadata": {},
   "outputs": [
    {
     "name": "stdout",
     "output_type": "stream",
     "text": [
      "(210,)\n"
     ]
    }
   ],
   "source": [
    "#| hide \n",
    "\n",
    "k_base = np.logspace(-5,  0, 210)\n",
    "print(k_base.shape)"
   ]
  },
  {
   "cell_type": "code",
   "execution_count": null,
   "metadata": {},
   "outputs": [],
   "source": [
    "#| hide\n",
    "\n",
    "if_local_processing = False\n",
    "\n",
    "if if_local_processing:\n",
    "    \n",
    "    file_dir = '/home/nramachandra/Projects/MG_emu/Data/raw_runs/LatinHypercubeRuns_AllRedshifts/'\n",
    "    out_dir = '/home/nramachandra/Projects/MG_emu/Codes/EarlyDarkEmu/EarlyDarkEmu/data/pkg_data/'\n",
    "    Pk_all, k_all, z_all = load_all_save_npy(file_dir, \n",
    "                                            output_directory = out_dir, \n",
    "                                            k_base=k_base)"
   ]
  },
  {
   "cell_type": "code",
   "execution_count": null,
   "metadata": {},
   "outputs": [],
   "source": [
    "#| export\n",
    "\n",
    "def load_npy_pk_k_z(Pk_fileIn:str=LIBRARY_PK_FILE, # Input file for Pk\n",
    "                     k_fileIn:str=LIBRARY_K_FILE,  # Input file for k\n",
    "                     z_fileIn:str=LIBRARY_Z_FILE, # Input file for z\n",
    "                     ) -> tuple:#Three n-D arrays for P(k), k and z\n",
    "\n",
    "\n",
    "    Pk_all = np.load(Pk_fileIn, allow_pickle=True)\n",
    "    k_all = np.load(k_fileIn)\n",
    "    z_all = np.load(z_fileIn)\n",
    "\n",
    "    return Pk_all, k_all, z_all\n"
   ]
  },
  {
   "cell_type": "code",
   "execution_count": null,
   "metadata": {},
   "outputs": [],
   "source": [
    "#| hide\n",
    "\n",
    "if if_local_processing: \n",
    "    Pk_all, k_all, z_all = load_npy_pk_k_z(LIBRARY_PK_FILE, LIBRARY_K_FILE, LIBRARY_Z_FILE)"
   ]
  },
  {
   "cell_type": "code",
   "execution_count": null,
   "metadata": {},
   "outputs": [],
   "source": [
    "#| hide\n",
    "\n",
    "if if_local_processing:\n",
    "\n",
    "    print(np.where(Pk_all == np.max(Pk_all)))\n",
    "\n",
    "    remove_sim_indx = [3]\n",
    "    valid_indices = [i for i in  np.arange(Pk_all.shape[0])  if i not in remove_sim_indx]\n",
    "\n",
    "    Pk_all_clean = Pk_all[valid_indices]\n",
    "\n",
    "\n",
    "    plt.plot(k_base, Pk_all[:, 49, :].T, 'k');\n",
    "    plt.plot(k_base, Pk_all_clean[:, 49, :].T, 'r');\n",
    "    plt.xscale('log')\n",
    "    plt.yscale('log')"
   ]
  },
  {
   "cell_type": "code",
   "execution_count": null,
   "metadata": {},
   "outputs": [],
   "source": [
    "#| hide\n",
    "\n",
    "if if_local_processing:\n",
    "\n",
    "    file_dir = '/home/nramachandra/Projects/MG_emu/Data/raw_runs/LatinHypercubeRuns_AllRedshifts/'\n",
    "\n",
    "    file_pk_trial = 'EDE_model12_00_z43_pk.dat'\n",
    "    pk, k = load_single_pk(file_dir + file_pk_trial)\n",
    "\n",
    "    file_pk_trial = 'EDE_model50_00_z43_pk.dat'\n",
    "    pk2, k2 = load_single_pk(file_dir + file_pk_trial)\n",
    "\n",
    "    print(k.shape, k2.shape)\n",
    "\n",
    "    # plt.plot(k, k2[1:], 'x')\n",
    "    plt.plot(pk, k)\n",
    "    plt.plot(pk2, k2)\n",
    "    plt.xscale('log')\n",
    "    plt.yscale('log')\n"
   ]
  },
  {
   "cell_type": "code",
   "execution_count": null,
   "metadata": {},
   "outputs": [],
   "source": [
    "# #| export\n",
    "\n",
    "# def load_boost_data(Bk_fileIn:str=LIBRARY_BK_FILE, # Input file for Boost\n",
    "#                         Zk_fileIn:str=LIBRARY_ZK_FILE, # Input file for redshift and wavenumbers\n",
    "#                         ) -> tuple: # Boost, wavenumbers, redshifts \n",
    "#     Bk_all = np.load(Bk_fileIn)\n",
    "#     zk_all = np.loadtxt(Zk_fileIn)\n",
    "    \n",
    "#     z_all = zk_all[:, 0][np.isfinite(zk_all[:, 0])]\n",
    "#     k_all = zk_all[:, 1]\n",
    "    \n",
    "#     return Bk_all, k_all, z_all"
   ]
  },
  {
   "cell_type": "code",
   "execution_count": null,
   "metadata": {},
   "outputs": [],
   "source": [
    "#| export\n",
    "\n",
    "def load_params(p_fileIn:str=LIBRARY_PARAM_FILE, # Input file for parameters\n",
    "               ) -> np.array: # Parameters\n",
    "    p_all = np.loadtxt(p_fileIn)\n",
    "    # p_all[:, 2] = p_all[:, 2]/1e-9  # A_s rescaling\n",
    "    return p_all[:, 1:]"
   ]
  },
  {
   "cell_type": "code",
   "execution_count": null,
   "metadata": {},
   "outputs": [],
   "source": [
    "#| hide\n",
    "\n",
    "if if_local_processing:\n",
    "    # Bk_all, k_all, z_all = load_boost_data()\n",
    "    p_all = load_params()\n",
    "    print(p_all[3])"
   ]
  },
  {
   "cell_type": "code",
   "execution_count": null,
   "metadata": {},
   "outputs": [],
   "source": [
    "#| export\n",
    "\n",
    "def sepia_data_format(design:np.array=None, # Params array of shape (num_simulation, num_params)\n",
    "                     y_vals:np.array=None, # Shape (num_simulation, num_y_values)\n",
    "                     y_ind:np.array=None # Shape (num_y_values,)\n",
    "                     ) -> SepiaData: #Sepia data format\n",
    "    sepia_data = SepiaData(t_sim=design, y_sim=y_vals, y_ind_sim=y_ind)\n",
    "    return sepia_data"
   ]
  },
  {
   "cell_type": "code",
   "execution_count": null,
   "metadata": {},
   "outputs": [],
   "source": [
    "#| hide\n",
    "\n",
    "if if_local_processing:\n",
    "\n",
    "    z_index = 0\n",
    "    y_vals = Pk_all[:, z_index, :]\n",
    "    y_ind = np.arange(0, y_vals.shape[1])\n",
    "    sepia_data = sepia_data_format(p_all, y_vals, y_ind)\n",
    "    print(sepia_data)"
   ]
  },
  {
   "cell_type": "code",
   "execution_count": null,
   "metadata": {},
   "outputs": [],
   "source": [
    "#| hide\n",
    "import nbdev; nbdev.nbdev_export()"
   ]
  },
  {
   "cell_type": "code",
   "execution_count": null,
   "metadata": {},
   "outputs": [],
   "source": []
  }
 ],
 "metadata": {
  "kernelspec": {
   "display_name": "python3",
   "language": "python",
   "name": "python3"
  }
 },
 "nbformat": 4,
 "nbformat_minor": 4
}
