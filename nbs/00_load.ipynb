{
 "cells": [
  {
   "cell_type": "markdown",
   "metadata": {},
   "source": [
    "# load\n",
    "\n",
    "> Module for loading training and target files"
   ]
  },
  {
   "cell_type": "code",
   "execution_count": null,
   "metadata": {},
   "outputs": [],
   "source": [
    "#| default_exp load"
   ]
  },
  {
   "cell_type": "code",
   "execution_count": null,
   "metadata": {},
   "outputs": [],
   "source": [
    "#| hide\n",
    "from nbdev.showdoc import *"
   ]
  },
  {
   "cell_type": "code",
   "execution_count": null,
   "metadata": {},
   "outputs": [],
   "source": [
    "#| export\n",
    "\n",
    "import numpy as np\n",
    "import pkg_resources\n",
    "from sepia.SepiaData import SepiaData\n",
    "import matplotlib.pylab as plt\n"
   ]
  },
  {
   "cell_type": "code",
   "execution_count": null,
   "metadata": {},
   "outputs": [],
   "source": [
    "#| hide\n",
    "\n",
    "import os\n",
    "from scipy.interpolate import interp1d\n"
   ]
  },
  {
   "cell_type": "code",
   "execution_count": null,
   "metadata": {},
   "outputs": [],
   "source": [
    "#| hide \n",
    "\n",
    "if_local_processing = False\n"
   ]
  },
  {
   "cell_type": "code",
   "execution_count": null,
   "metadata": {},
   "outputs": [],
   "source": [
    "#| export\n",
    "\n",
    "DATA_DIR = \"data/pkg_data/\"\n",
    "LIBRARY_PARAM_FILE = pkg_resources.resource_stream(\"EarlyDarkEmu\", DATA_DIR + \"params_latin.txt\").name\n",
    "LIBRARY_PK_FILE = pkg_resources.resource_stream(\"EarlyDarkEmu\", DATA_DIR + \"pk_all.npy\").name\n",
    "LIBRARY_K_FILE = pkg_resources.resource_stream(\"EarlyDarkEmu\", DATA_DIR + \"k_all.npy\").name\n",
    "LIBRARY_Z_FILE = pkg_resources.resource_stream(\"EarlyDarkEmu\", DATA_DIR + \"z_all.npy\").name\n",
    "\n",
    "\n",
    "LIBRARY_PARAM_FILE_TEST = pkg_resources.resource_stream(\"EarlyDarkEmu\", DATA_DIR + \"params_latin_test.txt\").name\n",
    "LIBRARY_PK_FILE_TEST = pkg_resources.resource_stream(\"EarlyDarkEmu\", DATA_DIR + \"pk_all_test.npy\").name\n",
    "LIBRARY_K_FILE_TEST = pkg_resources.resource_stream(\"EarlyDarkEmu\", DATA_DIR + \"k_all_test.npy\").name\n",
    "LIBRARY_Z_FILE_TEST = pkg_resources.resource_stream(\"EarlyDarkEmu\", DATA_DIR + \"z_all_test.npy\").name\n",
    "\n",
    "\n",
    "OBS_DIR = \"data/obs_data/\"\n",
    "SDSS_FILE = pkg_resources.resource_stream(\"EarlyDarkEmu\", OBS_DIR + \"reid_DR7.txt\").name\n",
    "WMAP_FILE = pkg_resources.resource_stream(\"EarlyDarkEmu\", OBS_DIR + \"wmap_act.txt\").name\n",
    "LYA_FILE = pkg_resources.resource_stream(\"EarlyDarkEmu\", OBS_DIR + \"eBOSS_DR14_Ly-a_Forest.txt\").name\n",
    "PLANCKEE_FILE = pkg_resources.resource_stream(\"EarlyDarkEmu\", OBS_DIR + \"planck2018_ee.txt\").name\n",
    "PLANCKTT_FILE = pkg_resources.resource_stream(\"EarlyDarkEmu\", OBS_DIR + \"planck2018_tt.txt\").name\n",
    "PLANCK_FILE = pkg_resources.resource_stream(\"EarlyDarkEmu\", OBS_DIR + \"planck2018.txt\").name\n",
    "DES_FILE = pkg_resources.resource_stream(\"EarlyDarkEmu\", OBS_DIR + \"des_y1_cosmic_shear.txt\").name\n",
    "\n",
    "PARAM_NAME = [r\"$\\omega_m$\", r\"h\", r\"$\\sigma_8$\", r\"$\\log(z_c)$\", r\"$f_{ede}$\", r\"$\\theta_i$\"]\n",
    "\n",
    "# LIBRARY_ZK_FILE_VAL = pkg_resources.resource_stream(\"EarlyDarkEmu\", DATA_DIR + \"z_k_validation.txt\").name\n",
    "# LIBRARY_BK_FILE_VAL = pkg_resources.resource_stream(\"EarlyDarkEmu\", DATA_DIR + \"Boost_validation.npy\").name\n",
    "# LIBRARY_PARAM_FILE_VAL = pkg_resources.resource_stream(\"EarlyDarkEmu\", DATA_DIR + \"cosmo_validation.txt\").name\n"
   ]
  },
  {
   "cell_type": "code",
   "execution_count": null,
   "metadata": {},
   "outputs": [],
   "source": [
    "#| hide\n",
    "\n",
    "def load_single_pk(file_path\n",
    "                   ):\n",
    "    data = np.loadtxt(file_path).T\n",
    "    return data"
   ]
  },
  {
   "cell_type": "code",
   "execution_count": null,
   "metadata": {},
   "outputs": [],
   "source": [
    "#| hide\n",
    "\n",
    "def interpolate_data(k, \n",
    "                     pk, \n",
    "                     k_base\n",
    "                     ):\n",
    "    interp_func = interp1d(k, pk, kind='linear', bounds_error=False, fill_value=\"extrapolate\")\n",
    "    pk_interpolated = interp_func(k_base)\n",
    "    return pk_interpolated"
   ]
  },
  {
   "cell_type": "code",
   "execution_count": null,
   "metadata": {},
   "outputs": [],
   "source": [
    "#| hide\n",
    "\n",
    "def extract_z_value(file_path\n",
    "                    ):\n",
    "    with open(file_path, 'r') as file:\n",
    "        first_line = file.readline()\n",
    "        z_value = float(first_line.split('z=')[1].split()[0])\n",
    "    return z_value"
   ]
  },
  {
   "cell_type": "code",
   "execution_count": null,
   "metadata": {},
   "outputs": [],
   "source": [
    "#| hide\n",
    "\n",
    "def load_all_save_npy(directory, \n",
    "                       k_base, \n",
    "                       output_directory,\n",
    "                       total_sim_num=64, \n",
    "                       total_redshift_num=51, \n",
    "                       if_train=True\n",
    "                       ):\n",
    "    \n",
    "    all_data = np.zeros((total_sim_num, total_redshift_num, len(k_base)))\n",
    "    all_z = np.zeros(total_redshift_num, )\n",
    "\n",
    "    for sim_num in range(1, total_sim_num + 1):\n",
    "        sim_data = []\n",
    "        \n",
    "        \n",
    "        for redshift_num in range(1, total_redshift_num + 1):\n",
    "\n",
    "            if if_train: file_name = f\"EDE_model{sim_num}_00_z{redshift_num}_pk.dat\"\n",
    "            else: file_name = f\"EDE_test{sim_num}_00_z{redshift_num}_pk.dat\"\n",
    "            \n",
    "            file_path = os.path.join(directory, file_name)\n",
    "            k, pk = load_single_pk(file_path)\n",
    "            # print(k.min(), k.max())\n",
    "            pk_interpolated = interpolate_data(k, pk, k_base)  \n",
    "            sim_data.append(pk_interpolated)\n",
    "\n",
    "\n",
    "            if sim_num == 1: \n",
    "                \n",
    "                z_single = extract_z_value(file_path)\n",
    "                all_z[redshift_num -1] = z_single\n",
    "\n",
    "        \n",
    "        all_data[sim_num - 1, :, :] = np.array(sim_data)  # Adjusted index to be 0-based\n",
    "\n",
    "    # np.save(output_directory + 'pk_all', all_data, allow_pickle=True)\n",
    "    # all_data = np.ravel(all_data)\n",
    "    \n",
    "    if if_train: \n",
    "        np.save(output_directory + 'pk_all.npy', all_data)\n",
    "        np.save(output_directory + 'k_all.npy', k_base)\n",
    "        np.save(output_directory + 'z_all.npy', all_z)\n",
    "    \n",
    "    else: \n",
    "        np.save(output_directory + 'pk_all_test.npy', all_data)\n",
    "        np.save(output_directory + 'k_all_test.npy', k_base)\n",
    "        np.save(output_directory + 'z_all_test.npy', all_z)\n",
    "\n",
    "    return all_data, k_base, all_z\n"
   ]
  },
  {
   "cell_type": "code",
   "execution_count": null,
   "metadata": {},
   "outputs": [
    {
     "name": "stdout",
     "output_type": "stream",
     "text": [
      "(210,)\n"
     ]
    }
   ],
   "source": [
    "#| export \n",
    "\n",
    "_k_base = np.logspace(-5,  0, 210)\n",
    "print(_k_base.shape)"
   ]
  },
  {
   "cell_type": "code",
   "execution_count": null,
   "metadata": {},
   "outputs": [],
   "source": [
    "#| hide\n",
    "\n",
    "\n",
    "if if_local_processing:\n",
    "    \n",
    "    \n",
    "    out_dir = '/home/nramachandra/Projects/MG_emu/Codes/EarlyDarkEmu/EarlyDarkEmu/data/pkg_data/'\n",
    "\n",
    "    file_dir = '/home/nramachandra/Projects/MG_emu/Data/raw_runs/LatinHypercubeRuns_AllRedshifts/'\n",
    "    Pk_all, k_all, z_all = load_all_save_npy(file_dir, \n",
    "                                            output_directory = out_dir, \n",
    "                                            k_base=_k_base,\n",
    "                                            total_sim_num=64, \n",
    "                                            total_redshift_num=51, \n",
    "                                            if_train=True)\n",
    "    \n",
    "    file_dir = '/home/nramachandra/Projects/MG_emu/Data/raw_runs/LatinHypercubeRuns_AllRedshifts_Test/'\n",
    "    Pk_all_test, k_all_test, z_all_test = load_all_save_npy(file_dir, \n",
    "                                                            output_directory = out_dir, \n",
    "                                                            k_base=_k_base, \n",
    "                                                            total_sim_num=6, \n",
    "                                                            total_redshift_num=101, \n",
    "                                                            if_train=False)"
   ]
  },
  {
   "cell_type": "code",
   "execution_count": null,
   "metadata": {},
   "outputs": [],
   "source": [
    "#| export\n",
    "\n",
    "def load_npy_pk_k_z(Pk_fileIn:str=LIBRARY_PK_FILE, # Input file for Pk\n",
    "                     k_fileIn:str=LIBRARY_K_FILE,  # Input file for k\n",
    "                     z_fileIn:str=LIBRARY_Z_FILE, # Input file for z\n",
    "                     pk_log_scale:bool=True, #log10 scaling for P(k)\n",
    "                     ) -> tuple:#Three n-D arrays for P(k), k and z\n",
    "\n",
    "\n",
    "    # Pk_all = np.load(Pk_fileIn, allow_pickle=True, encoding='latin1')\n",
    "    Pk_all = np.load(Pk_fileIn)\n",
    "    k_all = np.load(k_fileIn)\n",
    "    z_all = np.load(z_fileIn)\n",
    "\n",
    "    # Pk_all = np.reshape(Pk_all, newshape=(-1, z_all.shape[0], k_all.shape[0]))\n",
    "    \n",
    "    if pk_log_scale: \n",
    "        Pk_all = np.log10(Pk_all)        \n",
    "\n",
    "    return Pk_all, k_all, z_all\n"
   ]
  },
  {
   "cell_type": "code",
   "execution_count": null,
   "metadata": {},
   "outputs": [],
   "source": [
    "#| export\n",
    "\n",
    "if True: \n",
    "    Pk_all, k_all, z_all = load_npy_pk_k_z(LIBRARY_PK_FILE, LIBRARY_K_FILE, LIBRARY_Z_FILE)\n",
    "\n",
    "    Pk_all_test, k_all_test, z_all_test = load_npy_pk_k_z(LIBRARY_PK_FILE_TEST, LIBRARY_K_FILE_TEST, LIBRARY_Z_FILE_TEST)"
   ]
  },
  {
   "cell_type": "code",
   "execution_count": null,
   "metadata": {},
   "outputs": [],
   "source": [
    "# Pk_all_ravel = np.ravel(Pk_all)\n",
    "\n",
    "# Pk_all_reshaped = np.reshape(Pk_all_ravel, newshape=(-1, z_all.shape[0], k_all.shape[0]))\n",
    "\n",
    "# (Pk_all_reshaped == Pk_all).all()"
   ]
  },
  {
   "cell_type": "code",
   "execution_count": null,
   "metadata": {},
   "outputs": [],
   "source": [
    "#| export \n",
    "\n",
    "def load_sdss(fileIn:str=SDSS_FILE, #Input file\n",
    "              ):\n",
    "    k, pk, pk_error = np.loadtxt(fileIn, delimiter=' ').T\n",
    "    return k, np.log10(pk), np.abs(pk_error/pk)"
   ]
  },
  {
   "cell_type": "code",
   "execution_count": null,
   "metadata": {},
   "outputs": [],
   "source": [
    "#| export \n",
    "\n",
    "def load_wmap(fileIn:str=WMAP_FILE, #Input file\n",
    "              ):\n",
    "    k, pk, pk_error = np.loadtxt(fileIn).T\n",
    "    return k, np.log10(pk), ((pk_error-pk)/pk)"
   ]
  },
  {
   "cell_type": "code",
   "execution_count": null,
   "metadata": {},
   "outputs": [],
   "source": [
    "#| export \n",
    "\n",
    "def load_lya(fileIn:str=LYA_FILE, #Input file\n",
    "            ):\n",
    "    k, pk, pk_error = np.loadtxt(fileIn).T\n",
    "    return k, np.log10(pk), ((pk_error-pk)/pk)"
   ]
  },
  {
   "cell_type": "code",
   "execution_count": null,
   "metadata": {},
   "outputs": [],
   "source": [
    "#| export \n",
    "\n",
    "def load_planck_ee(fileIn:str=PLANCKEE_FILE, #Input file\n",
    "            ):\n",
    "    k, pk, pk_error = np.loadtxt(fileIn).T\n",
    "    return k, np.log10(pk), ((pk_error-pk)/pk)"
   ]
  },
  {
   "cell_type": "code",
   "execution_count": null,
   "metadata": {},
   "outputs": [],
   "source": [
    "#| export \n",
    "\n",
    "def load_planck_tt(fileIn:str=PLANCKTT_FILE, #Input file\n",
    "            ):\n",
    "    k, pk, pk_error = np.loadtxt(fileIn).T\n",
    "    return k, np.log10(pk), ((pk_error-pk)/pk)"
   ]
  },
  {
   "cell_type": "code",
   "execution_count": null,
   "metadata": {},
   "outputs": [],
   "source": [
    "#| export \n",
    "\n",
    "def load_planck(fileIn:str=PLANCK_FILE, #Input file\n",
    "            ):\n",
    "    k, pk, pk_error = np.loadtxt(fileIn).T\n",
    "    return k, np.log10(pk), ((pk_error-pk)/pk)\n"
   ]
  },
  {
   "cell_type": "code",
   "execution_count": null,
   "metadata": {},
   "outputs": [],
   "source": [
    "#| export \n",
    "\n",
    "def load_des(fileIn:str=DES_FILE, #Input file\n",
    "            ):\n",
    "    k, pk, pk_error = np.loadtxt(fileIn).T\n",
    "    return k, np.log10(pk), ((pk_error-pk)/pk)\n"
   ]
  },
  {
   "cell_type": "code",
   "execution_count": null,
   "metadata": {},
   "outputs": [
    {
     "name": "stdout",
     "output_type": "stream",
     "text": [
      "(array([32]), array([0]), array([127]))\n"
     ]
    },
    {
     "data": {
      "image/png": "[encoded data removed]",
      "text/plain": [
       "<Figure size 640x480 with 1 Axes>"
      ]
     },
     "metadata": {},
     "output_type": "display_data"
    }
   ],
   "source": [
    "#| hide\n",
    "\n",
    "\n",
    "if True:\n",
    "\n",
    "    print(np.where(Pk_all == np.max(Pk_all)))\n",
    "\n",
    "    remove_sim_indx = []\n",
    "    valid_indices = [i for i in  np.arange(Pk_all.shape[0])  if i not in remove_sim_indx]\n",
    "\n",
    "    Pk_all_clean = Pk_all[valid_indices]\n",
    "\n",
    "\n",
    "    plt.plot(_k_base, Pk_all[remove_sim_indx, 0, :].T, 'k');\n",
    "    plt.plot(_k_base, Pk_all[valid_indices, 0, :].T, 'black', alpha=0.1);\n",
    "    plt.xscale('log')\n",
    "    # plt.yscale('log')\n",
    "\n",
    "\n",
    "    k_sdss, pk_sdss, pk_error_sdss = load_sdss()\n",
    "    k_wmap, pk_wmap, pk_error_wmap = load_wmap()\n",
    "    k_lya, pk_lya, pk_error_lya = load_lya()\n",
    "    k_plee, pk_plee, pk_error_plee = load_planck_ee()\n",
    "    k_pltt, pk_pltt, pk_error_pltt = load_planck_tt()\n",
    "    k_pl, pk_pl, pk_error_pl = load_planck()\n",
    "    k_des, pk_des, pk_error_des = load_des()\n",
    "\n",
    "    plt.ylim(0,5)\n",
    "    \n",
    "    plt.errorbar(k_sdss, pk_sdss, yerr=pk_error_sdss, label='SDSS DR7', color='red', ls='none', alpha=0.5) \n",
    "    plt.errorbar(k_wmap, pk_wmap, yerr=pk_error_wmap, label='WMAP + ACT', color='blue', ls='none', alpha=0.5)\n",
    "    plt.errorbar(k_lya, pk_lya, yerr=pk_error_lya, label='eBOSS', ls = 'none', alpha = 0.5)\n",
    "    plt.errorbar(k_plee, pk_plee, yerr=pk_error_plee, label='PLANCK_2018 EE', ls = 'none', alpha = 0.5)\n",
    "    plt.errorbar(k_pltt, (pk_pltt), yerr=(pk_error_pltt), label='PLANCK_2018 TT', ls = 'none', alpha = 0.5)\n",
    "    plt.errorbar(k_pl, pk_pl, yerr=pk_error_pl, label='PLANCK_2018', ls = 'none', alpha = 0.5)\n",
    "    plt.errorbar(k_des, pk_des, yerr=pk_error_des, label='DES Y1 COSMIC SHEAR', ls = 'none', alpha = 0.5)\n",
    "\n",
    "    \n",
    "    plt.legend()\n",
    "\n",
    "    plt.ylabel(r'$k [h/Mpc]$')\n",
    "    plt.xlabel(r'$P(k) [(Mpc/h)^3]$')"
   ]
  },
  {
   "cell_type": "code",
   "execution_count": null,
   "metadata": {},
   "outputs": [],
   "source": [
    "#| hide\n",
    "\n",
    "if if_local_processing:\n",
    "\n",
    "    file_dir = '/home/nramachandra/Projects/MG_emu/Data/raw_runs/LatinHypercubeRuns_AllRedshifts/'\n",
    "\n",
    "    file_pk_trial = 'EDE_model42_00_z1_pk.dat'\n",
    "    k, pk = load_single_pk(file_dir + file_pk_trial)\n",
    "\n",
    "    file_pk_trial = 'EDE_model52_00_z1_pk.dat'\n",
    "    k2, pk2 = load_single_pk(file_dir + file_pk_trial)\n",
    "\n",
    "    file_pk_trial = 'EDE_model38_00_z1_pk.dat'\n",
    "    k3, pk3 = load_single_pk(file_dir + file_pk_trial)\n",
    "\n",
    "    print(k.shape, k2.shape)\n",
    "\n",
    "    # plt.plot(k, k2[1:], 'x')\n",
    "    plt.plot(k, np.log10(pk), 'g')\n",
    "    plt.plot(k2, np.log10(pk2), 'r')\n",
    "    plt.plot(k3, np.log10(pk3), 'b')\n",
    "\n",
    "    plt.plot(_k_base, Pk_all[:, 0, :].T, 'k', alpha=0.02);\n",
    "\n",
    "\n",
    "    plt.errorbar(k_sdss, pk_sdss, yerr=pk_error_sdss)\n",
    "    plt.errorbar(k_wmap, pk_wmap, yerr=pk_error_wmap)\n",
    "\n",
    "    plt.xscale('log')\n",
    "\n",
    "\n"
   ]
  },
  {
   "cell_type": "code",
   "execution_count": null,
   "metadata": {},
   "outputs": [],
   "source": [
    "# #| export\n",
    "\n",
    "# def load_boost_data(Bk_fileIn:str=LIBRARY_BK_FILE, # Input file for Boost\n",
    "#                         Zk_fileIn:str=LIBRARY_ZK_FILE, # Input file for redshift and wavenumbers\n",
    "#                         ) -> tuple: # Boost, wavenumbers, redshifts \n",
    "#     Bk_all = np.load(Bk_fileIn)\n",
    "#     zk_all = np.loadtxt(Zk_fileIn)\n",
    "    \n",
    "#     z_all = zk_all[:, 0][np.isfinite(zk_all[:, 0])]\n",
    "#     k_all = zk_all[:, 1]\n",
    "    \n",
    "#     return Bk_all, k_all, z_all"
   ]
  },
  {
   "cell_type": "code",
   "execution_count": null,
   "metadata": {},
   "outputs": [],
   "source": [
    "#| export\n",
    "\n",
    "def load_params(p_fileIn:str=LIBRARY_PARAM_FILE, # Input file for parameters\n",
    "               ) -> np.array: # Parameters\n",
    "    p_all = np.loadtxt(p_fileIn)\n",
    "\n",
    "    return p_all[:, 1:-1]"
   ]
  },
  {
   "cell_type": "code",
   "execution_count": null,
   "metadata": {},
   "outputs": [],
   "source": [
    "#| hide\n",
    "\n",
    "if if_local_processing:\n",
    "    # Bk_all, k_all, z_all = load_boost_data()\n",
    "    p_all = load_params()\n",
    "    print(p_all[3])"
   ]
  },
  {
   "cell_type": "code",
   "execution_count": null,
   "metadata": {},
   "outputs": [],
   "source": [
    "#| export\n",
    "\n",
    "def sepia_data_format(design:np.array=None, # Params array of shape (num_simulation, num_params)\n",
    "                     y_vals:np.array=None, # Shape (num_simulation, num_y_values)\n",
    "                     y_ind:np.array=None # Shape (num_y_values,)\n",
    "                     ) -> SepiaData: #Sepia data format\n",
    "    sepia_data = SepiaData(t_sim=design, y_sim=y_vals, y_ind_sim=y_ind)\n",
    "    return sepia_data"
   ]
  },
  {
   "cell_type": "code",
   "execution_count": null,
   "metadata": {},
   "outputs": [],
   "source": [
    "#| hide\n",
    "\n",
    "if if_local_processing:\n",
    "\n",
    "    z_index = 0\n",
    "    y_vals = Pk_all[:, z_index, :]\n",
    "    y_ind = np.arange(0, y_vals.shape[1])\n",
    "    sepia_data = sepia_data_format(p_all, y_vals, y_ind)\n",
    "    print(sepia_data)"
   ]
  },
  {
   "cell_type": "code",
   "execution_count": null,
   "metadata": {},
   "outputs": [],
   "source": [
    "#| hide\n",
    "import nbdev; nbdev.nbdev_export()"
   ]
  },
  {
   "cell_type": "code",
   "execution_count": null,
   "metadata": {},
   "outputs": [],
   "source": []
  }
 ],
 "metadata": {
  "kernelspec": {
   "display_name": "python3",
   "language": "python",
   "name": "python3"
  }
 },
 "nbformat": 4,
 "nbformat_minor": 4
}
